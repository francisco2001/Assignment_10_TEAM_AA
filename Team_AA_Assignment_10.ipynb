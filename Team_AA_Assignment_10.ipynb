{
 "metadata": {
  "name": "",
  "signature": "sha256:6e60832196e0e31d208fc212cbee2cc8cf99a82c8b693338b636cfe1c0251642"
 },
 "nbformat": 3,
 "nbformat_minor": 0,
 "worksheets": [
  {
   "cells": [
    {
     "cell_type": "markdown",
     "metadata": {},
     "source": [
      "Loading Modules "
     ]
    },
    {
     "cell_type": "code",
     "collapsed": false,
     "input": [
      "from osgeo import ogr,osr\n",
      "import os\n",
      "import folium\n",
      "import subprocess\n"
     ],
     "language": "python",
     "metadata": {},
     "outputs": [],
     "prompt_number": 1
    },
    {
     "cell_type": "markdown",
     "metadata": {},
     "source": [
      "Creating Driver"
     ]
    },
    {
     "cell_type": "code",
     "collapsed": false,
     "input": [
      "driverName = \"ESRI Shapefile\"\n",
      "drv = ogr.GetDriverByName( driverName )\n"
     ],
     "language": "python",
     "metadata": {},
     "outputs": [],
     "prompt_number": 3
    },
    {
     "cell_type": "markdown",
     "metadata": {},
     "source": [
      "Choosing names for the Layer and DataSource"
     ]
    },
    {
     "cell_type": "code",
     "collapsed": false,
     "input": [
      "fn = \"locations.shp\"\n",
      "layername = \"newlayer\""
     ],
     "language": "python",
     "metadata": {},
     "outputs": [],
     "prompt_number": 4
    },
    {
     "cell_type": "markdown",
     "metadata": {},
     "source": [
      "Creating the shape file"
     ]
    },
    {
     "cell_type": "code",
     "collapsed": false,
     "input": [
      "ds = drv.CreateDataSource(fn)"
     ],
     "language": "python",
     "metadata": {},
     "outputs": [],
     "prompt_number": 5
    },
    {
     "cell_type": "markdown",
     "metadata": {},
     "source": [
      "Set spatial reference"
     ]
    },
    {
     "cell_type": "code",
     "collapsed": false,
     "input": [
      "spatialReference = osr.SpatialReference()\n",
      "spatialReference.ImportFromProj4('+proj=longlat +ellps=WGS84 +datum=WGS84 +no_defs')\n",
      "print (spatialReference)"
     ],
     "language": "python",
     "metadata": {},
     "outputs": [
      {
       "output_type": "stream",
       "stream": "stdout",
       "text": [
        "GEOGCS[\"WGS 84\",\n",
        "    DATUM[\"WGS_1984\",\n",
        "        SPHEROID[\"WGS 84\",6378137,298.257223563,\n",
        "            AUTHORITY[\"EPSG\",\"7030\"]],\n",
        "        AUTHORITY[\"EPSG\",\"6326\"]],\n",
        "    PRIMEM[\"Greenwich\",0,\n",
        "        AUTHORITY[\"EPSG\",\"8901\"]],\n",
        "    UNIT[\"degree\",0.0174532925199433,\n",
        "        AUTHORITY[\"EPSG\",\"9122\"]],\n",
        "    AUTHORITY[\"EPSG\",\"4326\"]]\n"
       ]
      }
     ],
     "prompt_number": 6
    },
    {
     "cell_type": "markdown",
     "metadata": {},
     "source": [
      "Creating Layer"
     ]
    },
    {
     "cell_type": "code",
     "collapsed": false,
     "input": [
      "layer=ds.CreateLayer(layername, spatialReference, ogr.wkbPoint)\n"
     ],
     "language": "python",
     "metadata": {},
     "outputs": [],
     "prompt_number": 7
    },
    {
     "cell_type": "markdown",
     "metadata": {},
     "source": [
      "Creating a point-locations.Defining properties of features from layer properties.Add the locations to the features"
     ]
    },
    {
     "cell_type": "code",
     "collapsed": false,
     "input": [
      "\n",
      "points_list = [(5.665783, 51.987256), (5.663808, 51.985331)]\n",
      "\n",
      "for i in points_list:\n",
      "        \n",
      "    point= ogr.Geometry(ogr.wkbPoint)\n",
      "    point.SetPoint(0,i[0],i[1])\n",
      "    layerDef = layer.GetLayerDefn()\n",
      "    feature = ogr.Feature(layerDef)\n",
      "    feature.SetGeometry(point)\n",
      "    layer.CreateFeature(feature)\n",
      "\n",
      "print \"The new extent\"\n",
      "print layer.GetExtent() \n",
      "\n",
      "\n",
      "print('KML file export')\n",
      "\n",
      "import subprocess\n",
      "subprocess.call([\"ogr2ogr\",\"-f\", \"GeoJSON\",\"-t_srs\",\"crs:84\", \"points.geojson\",\"locations.shp\"])\n",
      "\n",
      "\n",
      "\n",
      "\n",
      "ds.Destroy()     \n",
      "        \n"
     ],
     "language": "python",
     "metadata": {},
     "outputs": [
      {
       "output_type": "stream",
       "stream": "stdout",
       "text": [
        "The new extent\n",
        "(5.663808, 5.665783, 51.985331, 51.987256)\n",
        "KML file export\n"
       ]
      }
     ],
     "prompt_number": 8
    },
    {
     "cell_type": "markdown",
     "metadata": {},
     "source": [
      "Exporting locations to KML and making a map with JSON"
     ]
    },
    {
     "cell_type": "code",
     "collapsed": false,
     "input": [
      "import folium\n",
      "import os\n",
      "pointsGeo=os.path.join(\"points.geojson\")\n",
      "map_points = folium.Map(location=[52,5.7],tiles='Mapbox Bright', zoom_start=6)\n",
      "map_points.choropleth(geo_path=pointsGeo)\n",
      "map_points.save('points.html')"
     ],
     "language": "python",
     "metadata": {},
     "outputs": [],
     "prompt_number": 10
    },
    {
     "cell_type": "code",
     "collapsed": false,
     "input": [
      "import subprocess\n",
      "bash_com=\"ogr2ogr -f kml -t_srs crs:84 wagn_points.kml points.geojson\"\n",
      "os.system(bash_com)\n",
      "ds.Destroy()     \n"
     ],
     "language": "python",
     "metadata": {},
     "outputs": [],
     "prompt_number": 11
    },
    {
     "cell_type": "code",
     "collapsed": false,
     "input": [],
     "language": "python",
     "metadata": {},
     "outputs": [],
     "prompt_number": 11
    }
   ],
   "metadata": {}
  }
 ]
}